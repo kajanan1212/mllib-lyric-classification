{
 "cells": [
  {
   "cell_type": "code",
   "execution_count": 54,
   "id": "2534569f",
   "metadata": {},
   "outputs": [],
   "source": [
    "import pandas as pd"
   ]
  },
  {
   "cell_type": "code",
   "execution_count": 55,
   "id": "6c353f7d",
   "metadata": {},
   "outputs": [],
   "source": [
    "df1 = pd.read_csv(\"Student_dataset_1.csv\")\n",
    "df2 = pd.read_csv(\"Student_dataset_2.csv\")\n",
    "df3 = pd.read_csv(\"Student_dataset_3.csv\")"
   ]
  },
  {
   "cell_type": "code",
   "execution_count": 56,
   "id": "709db7ee",
   "metadata": {},
   "outputs": [],
   "source": [
    "df1 = df1.drop(34)"
   ]
  },
  {
   "cell_type": "code",
   "execution_count": 57,
   "id": "4ccc188f",
   "metadata": {},
   "outputs": [],
   "source": [
    "df4 = pd.concat([df1, df2, df3], ignore_index=True)"
   ]
  },
  {
   "cell_type": "code",
   "execution_count": 58,
   "id": "d99ba58f",
   "metadata": {},
   "outputs": [
    {
     "name": "stdout",
     "output_type": "stream",
     "text": [
      "<class 'pandas.core.frame.DataFrame'>\n",
      "RangeIndex: 123 entries, 0 to 122\n",
      "Data columns (total 5 columns):\n",
      " #   Column        Non-Null Count  Dtype \n",
      "---  ------        --------------  ----- \n",
      " 0   artist_name   123 non-null    object\n",
      " 1   track_name    123 non-null    object\n",
      " 2   release_date  123 non-null    int64 \n",
      " 3   genre         123 non-null    object\n",
      " 4   lyrics        123 non-null    object\n",
      "dtypes: int64(1), object(4)\n",
      "memory usage: 4.9+ KB\n"
     ]
    }
   ],
   "source": [
    "df4.info()"
   ]
  },
  {
   "cell_type": "code",
   "execution_count": 59,
   "id": "669594e2",
   "metadata": {},
   "outputs": [
    {
     "data": {
      "text/plain": [
       "artist_name     0\n",
       "track_name      0\n",
       "release_date    0\n",
       "genre           0\n",
       "lyrics          0\n",
       "dtype: int64"
      ]
     },
     "execution_count": 59,
     "metadata": {},
     "output_type": "execute_result"
    }
   ],
   "source": [
    "df4.isnull().sum()"
   ]
  },
  {
   "cell_type": "code",
   "execution_count": 60,
   "id": "f58b88cc",
   "metadata": {},
   "outputs": [],
   "source": [
    "df4.to_csv(\"Student_dataset.csv\", index=False)"
   ]
  },
  {
   "cell_type": "code",
   "execution_count": 61,
   "id": "7695f162",
   "metadata": {},
   "outputs": [],
   "source": [
    "df5 = pd.read_csv(\"../data/mendeley-music-dataset.csv\")"
   ]
  },
  {
   "cell_type": "code",
   "execution_count": 62,
   "id": "3baf0273",
   "metadata": {},
   "outputs": [
    {
     "data": {
      "text/plain": [
       "(28372, 31)"
      ]
     },
     "execution_count": 62,
     "metadata": {},
     "output_type": "execute_result"
    }
   ],
   "source": [
    "df5.shape"
   ]
  },
  {
   "cell_type": "code",
   "execution_count": 63,
   "id": "d443a2d8",
   "metadata": {},
   "outputs": [],
   "source": [
    "df5 = df5[[\"artist_name\", \"track_name\", \"release_date\", \"genre\", \"lyrics\"]]\n",
    "df6 = pd.concat([df5, df4], ignore_index=True)"
   ]
  },
  {
   "cell_type": "code",
   "execution_count": 64,
   "id": "88256ec0",
   "metadata": {},
   "outputs": [
    {
     "name": "stdout",
     "output_type": "stream",
     "text": [
      "<class 'pandas.core.frame.DataFrame'>\n",
      "RangeIndex: 28495 entries, 0 to 28494\n",
      "Data columns (total 5 columns):\n",
      " #   Column        Non-Null Count  Dtype \n",
      "---  ------        --------------  ----- \n",
      " 0   artist_name   28495 non-null  object\n",
      " 1   track_name    28495 non-null  object\n",
      " 2   release_date  28495 non-null  int64 \n",
      " 3   genre         28495 non-null  object\n",
      " 4   lyrics        28495 non-null  object\n",
      "dtypes: int64(1), object(4)\n",
      "memory usage: 1.1+ MB\n"
     ]
    }
   ],
   "source": [
    "df6.info()"
   ]
  },
  {
   "cell_type": "code",
   "execution_count": 65,
   "id": "8d00146e",
   "metadata": {},
   "outputs": [
    {
     "data": {
      "text/plain": [
       "artist_name     0\n",
       "track_name      0\n",
       "release_date    0\n",
       "genre           0\n",
       "lyrics          0\n",
       "dtype: int64"
      ]
     },
     "execution_count": 65,
     "metadata": {},
     "output_type": "execute_result"
    }
   ],
   "source": [
    "df6.isnull().sum()"
   ]
  },
  {
   "cell_type": "code",
   "execution_count": 66,
   "id": "5a55e205",
   "metadata": {},
   "outputs": [],
   "source": [
    "df6.to_csv(\"Merged_dataset.csv\", index=False)"
   ]
  },
  {
   "cell_type": "code",
   "execution_count": null,
   "id": "9943983b",
   "metadata": {},
   "outputs": [],
   "source": []
  },
  {
   "cell_type": "code",
   "execution_count": 30,
   "id": "5178f52a",
   "metadata": {},
   "outputs": [
    {
     "data": {
      "text/plain": [
       "pop        7042\n",
       "country    5445\n",
       "blues      4604\n",
       "rock       4034\n",
       "jazz       3845\n",
       "reggae     2498\n",
       "hip hop     904\n",
       "soul        118\n",
       "Name: genre, dtype: int64"
      ]
     },
     "execution_count": 30,
     "metadata": {},
     "output_type": "execute_result"
    }
   ],
   "source": [
    "df6.genre.value_counts()"
   ]
  },
  {
   "cell_type": "code",
   "execution_count": 38,
   "id": "01c49076",
   "metadata": {},
   "outputs": [
    {
     "data": {
      "text/html": [
       "<div>\n",
       "<style scoped>\n",
       "    .dataframe tbody tr th:only-of-type {\n",
       "        vertical-align: middle;\n",
       "    }\n",
       "\n",
       "    .dataframe tbody tr th {\n",
       "        vertical-align: top;\n",
       "    }\n",
       "\n",
       "    .dataframe thead th {\n",
       "        text-align: right;\n",
       "    }\n",
       "</style>\n",
       "<table border=\"1\" class=\"dataframe\">\n",
       "  <thead>\n",
       "    <tr style=\"text-align: right;\">\n",
       "      <th></th>\n",
       "      <th>artist_name</th>\n",
       "      <th>track_name</th>\n",
       "      <th>release_date</th>\n",
       "      <th>genre</th>\n",
       "      <th>lyrics</th>\n",
       "    </tr>\n",
       "  </thead>\n",
       "  <tbody>\n",
       "    <tr>\n",
       "      <th>28372</th>\n",
       "      <td>Frank Ocean</td>\n",
       "      <td>Pink + White</td>\n",
       "      <td>2016</td>\n",
       "      <td>soul</td>\n",
       "      <td>Yeah, yeah, um (Woo)\\nYeah, yeah, yeah\\n\\n[Ver...</td>\n",
       "    </tr>\n",
       "    <tr>\n",
       "      <th>28373</th>\n",
       "      <td>Marvin Gaye</td>\n",
       "      <td>Ain't No Mountain High Enough</td>\n",
       "      <td>1967</td>\n",
       "      <td>soul</td>\n",
       "      <td>Listen, baby\\nAin't no mountain high\\nAin't no...</td>\n",
       "    </tr>\n",
       "    <tr>\n",
       "      <th>28374</th>\n",
       "      <td>Frank Ocean</td>\n",
       "      <td>Novacane</td>\n",
       "      <td>2011</td>\n",
       "      <td>soul</td>\n",
       "      <td>I think I started something\\nI got what I want...</td>\n",
       "    </tr>\n",
       "    <tr>\n",
       "      <th>28375</th>\n",
       "      <td>Frank Ocean</td>\n",
       "      <td>Lost</td>\n",
       "      <td>2012</td>\n",
       "      <td>soul</td>\n",
       "      <td>Double D, big full breasts on my baby\\n(Yo, we...</td>\n",
       "    </tr>\n",
       "    <tr>\n",
       "      <th>28376</th>\n",
       "      <td>Frank Ocean</td>\n",
       "      <td>Thinkin Bout You</td>\n",
       "      <td>2012</td>\n",
       "      <td>soul</td>\n",
       "      <td>A tornado flew around my room before you came\\...</td>\n",
       "    </tr>\n",
       "    <tr>\n",
       "      <th>...</th>\n",
       "      <td>...</td>\n",
       "      <td>...</td>\n",
       "      <td>...</td>\n",
       "      <td>...</td>\n",
       "      <td>...</td>\n",
       "    </tr>\n",
       "    <tr>\n",
       "      <th>28485</th>\n",
       "      <td>Adele</td>\n",
       "      <td>I Drink Wine</td>\n",
       "      <td>2021</td>\n",
       "      <td>soul</td>\n",
       "      <td>How can one become so bounded by choices that ...</td>\n",
       "    </tr>\n",
       "    <tr>\n",
       "      <th>28486</th>\n",
       "      <td>Frank Ocean</td>\n",
       "      <td>Moon River</td>\n",
       "      <td>2018</td>\n",
       "      <td>soul</td>\n",
       "      <td>One, two\\n\\n[Chorus]\\nMoon river, wider than a...</td>\n",
       "    </tr>\n",
       "    <tr>\n",
       "      <th>28487</th>\n",
       "      <td>Snoh Aalegra</td>\n",
       "      <td>I Want You Around</td>\n",
       "      <td>2019</td>\n",
       "      <td>soul</td>\n",
       "      <td>It's not that I don't want you here (Yeah, yea...</td>\n",
       "    </tr>\n",
       "    <tr>\n",
       "      <th>28488</th>\n",
       "      <td>Nina Simone</td>\n",
       "      <td>Feeling Good</td>\n",
       "      <td>1965</td>\n",
       "      <td>soul</td>\n",
       "      <td>Birds flying high, you know how I feel\\nSun in...</td>\n",
       "    </tr>\n",
       "    <tr>\n",
       "      <th>28489</th>\n",
       "      <td>Michael Jackson</td>\n",
       "      <td>Heaven Can Wait</td>\n",
       "      <td>2001</td>\n",
       "      <td>soul</td>\n",
       "      <td>Tell the angels, \"No, I don't wanna leave my b...</td>\n",
       "    </tr>\n",
       "  </tbody>\n",
       "</table>\n",
       "<p>118 rows × 5 columns</p>\n",
       "</div>"
      ],
      "text/plain": [
       "           artist_name                     track_name  release_date genre  \\\n",
       "28372      Frank Ocean                   Pink + White          2016  soul   \n",
       "28373      Marvin Gaye  Ain't No Mountain High Enough          1967  soul   \n",
       "28374      Frank Ocean                       Novacane          2011  soul   \n",
       "28375      Frank Ocean                           Lost          2012  soul   \n",
       "28376      Frank Ocean               Thinkin Bout You          2012  soul   \n",
       "...                ...                            ...           ...   ...   \n",
       "28485            Adele                   I Drink Wine          2021  soul   \n",
       "28486      Frank Ocean                     Moon River          2018  soul   \n",
       "28487     Snoh Aalegra              I Want You Around          2019  soul   \n",
       "28488      Nina Simone                   Feeling Good          1965  soul   \n",
       "28489  Michael Jackson                Heaven Can Wait          2001  soul   \n",
       "\n",
       "                                                  lyrics  \n",
       "28372  Yeah, yeah, um (Woo)\\nYeah, yeah, yeah\\n\\n[Ver...  \n",
       "28373  Listen, baby\\nAin't no mountain high\\nAin't no...  \n",
       "28374  I think I started something\\nI got what I want...  \n",
       "28375  Double D, big full breasts on my baby\\n(Yo, we...  \n",
       "28376  A tornado flew around my room before you came\\...  \n",
       "...                                                  ...  \n",
       "28485  How can one become so bounded by choices that ...  \n",
       "28486  One, two\\n\\n[Chorus]\\nMoon river, wider than a...  \n",
       "28487  It's not that I don't want you here (Yeah, yea...  \n",
       "28488  Birds flying high, you know how I feel\\nSun in...  \n",
       "28489  Tell the angels, \"No, I don't wanna leave my b...  \n",
       "\n",
       "[118 rows x 5 columns]"
      ]
     },
     "execution_count": 38,
     "metadata": {},
     "output_type": "execute_result"
    }
   ],
   "source": [
    "df6.loc[df6.genre==\"soul\"]"
   ]
  },
  {
   "cell_type": "code",
   "execution_count": null,
   "id": "534884ef",
   "metadata": {},
   "outputs": [],
   "source": []
  },
  {
   "cell_type": "code",
   "execution_count": null,
   "id": "cb2dd5b0",
   "metadata": {},
   "outputs": [],
   "source": []
  },
  {
   "cell_type": "code",
   "execution_count": null,
   "id": "66c114c2",
   "metadata": {},
   "outputs": [],
   "source": []
  },
  {
   "cell_type": "code",
   "execution_count": 16,
   "id": "3f305a60",
   "metadata": {},
   "outputs": [],
   "source": [
    "import pandas as pd\n",
    "from pyspark.sql import SparkSession\n",
    "from pyspark.ml import Transformer"
   ]
  },
  {
   "cell_type": "code",
   "execution_count": 2,
   "id": "744fb5ac",
   "metadata": {},
   "outputs": [],
   "source": [
    "df = pd.read_csv(\"../data/mendeley-music-dataset.csv\")"
   ]
  },
  {
   "cell_type": "code",
   "execution_count": 3,
   "id": "59452387",
   "metadata": {},
   "outputs": [
    {
     "data": {
      "text/plain": [
       "(28372, 31)"
      ]
     },
     "execution_count": 3,
     "metadata": {},
     "output_type": "execute_result"
    }
   ],
   "source": [
    "df.shape"
   ]
  },
  {
   "cell_type": "code",
   "execution_count": 4,
   "id": "22a31a54",
   "metadata": {},
   "outputs": [
    {
     "name": "stdout",
     "output_type": "stream",
     "text": [
      "<class 'pandas.core.frame.DataFrame'>\n",
      "RangeIndex: 28372 entries, 0 to 28371\n",
      "Data columns (total 31 columns):\n",
      " #   Column                    Non-Null Count  Dtype  \n",
      "---  ------                    --------------  -----  \n",
      " 0   Unnamed: 0                28372 non-null  int64  \n",
      " 1   artist_name               28372 non-null  object \n",
      " 2   track_name                28372 non-null  object \n",
      " 3   release_date              28372 non-null  int64  \n",
      " 4   genre                     28372 non-null  object \n",
      " 5   lyrics                    28372 non-null  object \n",
      " 6   len                       28372 non-null  int64  \n",
      " 7   dating                    28372 non-null  float64\n",
      " 8   violence                  28372 non-null  float64\n",
      " 9   world/life                28372 non-null  float64\n",
      " 10  night/time                28372 non-null  float64\n",
      " 11  shake the audience        28372 non-null  float64\n",
      " 12  family/gospel             28372 non-null  float64\n",
      " 13  romantic                  28372 non-null  float64\n",
      " 14  communication             28372 non-null  float64\n",
      " 15  obscene                   28372 non-null  float64\n",
      " 16  music                     28372 non-null  float64\n",
      " 17  movement/places           28372 non-null  float64\n",
      " 18  light/visual perceptions  28372 non-null  float64\n",
      " 19  family/spiritual          28372 non-null  float64\n",
      " 20  like/girls                28372 non-null  float64\n",
      " 21  sadness                   28372 non-null  float64\n",
      " 22  feelings                  28372 non-null  float64\n",
      " 23  danceability              28372 non-null  float64\n",
      " 24  loudness                  28372 non-null  float64\n",
      " 25  acousticness              28372 non-null  float64\n",
      " 26  instrumentalness          28372 non-null  float64\n",
      " 27  valence                   28372 non-null  float64\n",
      " 28  energy                    28372 non-null  float64\n",
      " 29  topic                     28372 non-null  object \n",
      " 30  age                       28372 non-null  float64\n",
      "dtypes: float64(23), int64(3), object(5)\n",
      "memory usage: 6.7+ MB\n"
     ]
    }
   ],
   "source": [
    "df.info()"
   ]
  },
  {
   "cell_type": "code",
   "execution_count": 5,
   "id": "9cf17055",
   "metadata": {},
   "outputs": [
    {
     "data": {
      "text/plain": [
       "Unnamed: 0                  0\n",
       "artist_name                 0\n",
       "track_name                  0\n",
       "release_date                0\n",
       "genre                       0\n",
       "lyrics                      0\n",
       "len                         0\n",
       "dating                      0\n",
       "violence                    0\n",
       "world/life                  0\n",
       "night/time                  0\n",
       "shake the audience          0\n",
       "family/gospel               0\n",
       "romantic                    0\n",
       "communication               0\n",
       "obscene                     0\n",
       "music                       0\n",
       "movement/places             0\n",
       "light/visual perceptions    0\n",
       "family/spiritual            0\n",
       "like/girls                  0\n",
       "sadness                     0\n",
       "feelings                    0\n",
       "danceability                0\n",
       "loudness                    0\n",
       "acousticness                0\n",
       "instrumentalness            0\n",
       "valence                     0\n",
       "energy                      0\n",
       "topic                       0\n",
       "age                         0\n",
       "dtype: int64"
      ]
     },
     "execution_count": 5,
     "metadata": {},
     "output_type": "execute_result"
    }
   ],
   "source": [
    "df.isnull().sum()"
   ]
  },
  {
   "cell_type": "code",
   "execution_count": null,
   "id": "f04cd303",
   "metadata": {},
   "outputs": [],
   "source": []
  },
  {
   "cell_type": "code",
   "execution_count": null,
   "id": "1a568c50",
   "metadata": {},
   "outputs": [],
   "source": []
  },
  {
   "cell_type": "code",
   "execution_count": null,
   "id": "3cfa38f4",
   "metadata": {},
   "outputs": [],
   "source": []
  },
  {
   "cell_type": "code",
   "execution_count": null,
   "id": "b77fc480",
   "metadata": {},
   "outputs": [],
   "source": []
  },
  {
   "cell_type": "code",
   "execution_count": null,
   "id": "69a29a3c",
   "metadata": {},
   "outputs": [],
   "source": []
  },
  {
   "cell_type": "code",
   "execution_count": null,
   "id": "eeb2b74d",
   "metadata": {},
   "outputs": [],
   "source": []
  },
  {
   "cell_type": "code",
   "execution_count": null,
   "id": "7b39dde7",
   "metadata": {},
   "outputs": [],
   "source": []
  },
  {
   "cell_type": "code",
   "execution_count": null,
   "id": "f79861de",
   "metadata": {},
   "outputs": [],
   "source": []
  },
  {
   "cell_type": "code",
   "execution_count": null,
   "id": "595eae8a",
   "metadata": {},
   "outputs": [],
   "source": []
  },
  {
   "cell_type": "code",
   "execution_count": null,
   "id": "d5c4ab4b",
   "metadata": {},
   "outputs": [],
   "source": []
  },
  {
   "cell_type": "code",
   "execution_count": null,
   "id": "59281744",
   "metadata": {},
   "outputs": [],
   "source": []
  },
  {
   "cell_type": "code",
   "execution_count": null,
   "id": "60adf4bf",
   "metadata": {},
   "outputs": [],
   "source": []
  },
  {
   "cell_type": "code",
   "execution_count": null,
   "id": "6665cb29",
   "metadata": {},
   "outputs": [],
   "source": []
  },
  {
   "cell_type": "code",
   "execution_count": 6,
   "id": "6c99d2d0",
   "metadata": {},
   "outputs": [
    {
     "data": {
      "text/plain": [
       "pop        7042\n",
       "country    5445\n",
       "blues      4604\n",
       "rock       4034\n",
       "jazz       3845\n",
       "reggae     2498\n",
       "hip hop     904\n",
       "Name: genre, dtype: int64"
      ]
     },
     "execution_count": 6,
     "metadata": {},
     "output_type": "execute_result"
    }
   ],
   "source": [
    "df[\"genre\"].value_counts()"
   ]
  },
  {
   "cell_type": "code",
   "execution_count": 8,
   "id": "b1ac7a19",
   "metadata": {},
   "outputs": [],
   "source": [
    "spark = SparkSession.builder.appName(\"Lyrics-Classifier\").getOrCreate()"
   ]
  },
  {
   "cell_type": "code",
   "execution_count": 9,
   "id": "c6b110ee",
   "metadata": {},
   "outputs": [
    {
     "data": {
      "text/html": [
       "\n",
       "            <div>\n",
       "                <p><b>SparkSession - in-memory</b></p>\n",
       "                \n",
       "        <div>\n",
       "            <p><b>SparkContext</b></p>\n",
       "\n",
       "            <p><a href=\"http://192.168.8.195:4040\">Spark UI</a></p>\n",
       "\n",
       "            <dl>\n",
       "              <dt>Version</dt>\n",
       "                <dd><code>v3.4.1</code></dd>\n",
       "              <dt>Master</dt>\n",
       "                <dd><code>local[*]</code></dd>\n",
       "              <dt>AppName</dt>\n",
       "                <dd><code>Lyrics-Classifier</code></dd>\n",
       "            </dl>\n",
       "        </div>\n",
       "        \n",
       "            </div>\n",
       "        "
      ],
      "text/plain": [
       "<pyspark.sql.session.SparkSession at 0x7facf1a19ca0>"
      ]
     },
     "execution_count": 9,
     "metadata": {},
     "output_type": "execute_result"
    }
   ],
   "source": [
    "spark"
   ]
  },
  {
   "cell_type": "code",
   "execution_count": 12,
   "id": "c5440038",
   "metadata": {},
   "outputs": [
    {
     "name": "stdout",
     "output_type": "stream",
     "text": [
      "root\n",
      " |-- _c0: integer (nullable = true)\n",
      " |-- artist_name: string (nullable = true)\n",
      " |-- track_name: string (nullable = true)\n",
      " |-- release_date: integer (nullable = true)\n",
      " |-- genre: string (nullable = true)\n",
      " |-- lyrics: string (nullable = true)\n",
      " |-- len: integer (nullable = true)\n",
      " |-- dating: double (nullable = true)\n",
      " |-- violence: double (nullable = true)\n",
      " |-- world/life: double (nullable = true)\n",
      " |-- night/time: double (nullable = true)\n",
      " |-- shake the audience: double (nullable = true)\n",
      " |-- family/gospel: double (nullable = true)\n",
      " |-- romantic: double (nullable = true)\n",
      " |-- communication: double (nullable = true)\n",
      " |-- obscene: double (nullable = true)\n",
      " |-- music: double (nullable = true)\n",
      " |-- movement/places: double (nullable = true)\n",
      " |-- light/visual perceptions: double (nullable = true)\n",
      " |-- family/spiritual: double (nullable = true)\n",
      " |-- like/girls: double (nullable = true)\n",
      " |-- sadness: double (nullable = true)\n",
      " |-- feelings: double (nullable = true)\n",
      " |-- danceability: double (nullable = true)\n",
      " |-- loudness: double (nullable = true)\n",
      " |-- acousticness: double (nullable = true)\n",
      " |-- instrumentalness: double (nullable = true)\n",
      " |-- valence: double (nullable = true)\n",
      " |-- energy: double (nullable = true)\n",
      " |-- topic: string (nullable = true)\n",
      " |-- age: double (nullable = true)\n",
      "\n"
     ]
    }
   ],
   "source": [
    "mendeley_dataset = spark.read.csv(\"../data/mendeley-music-dataset.csv\", header=True, inferSchema=True)\n",
    "mendeley_dataset.printSchema()"
   ]
  },
  {
   "cell_type": "code",
   "execution_count": 15,
   "id": "bfb2da39",
   "metadata": {},
   "outputs": [
    {
     "name": "stdout",
     "output_type": "stream",
     "text": [
      "+--------------------+-----+\n",
      "|              lyrics|genre|\n",
      "+--------------------+-----+\n",
      "|hold time feel br...|  pop|\n",
      "|believe drop rain...|  pop|\n",
      "|sweetheart send l...|  pop|\n",
      "|kiss lips want st...|  pop|\n",
      "|till darling till...|  pop|\n",
      "|convoy light dead...|  pop|\n",
      "|piece mindin worl...|  pop|\n",
      "|care moment hold ...|  pop|\n",
      "|lonely night surr...|  pop|\n",
      "|tear heart seat s...|  pop|\n",
      "|better sail midni...|  pop|\n",
      "|moon shin shin wa...|  pop|\n",
      "|come motherfucker...|  pop|\n",
      "|work morning flig...|  pop|\n",
      "|see carioca foxtr...|  pop|\n",
      "|hahaha alright ye...|  pop|\n",
      "|blue sky smile bl...|  pop|\n",
      "|light bright dark...|  pop|\n",
      "|wander garden fen...|  pop|\n",
      "|easier bitch leav...|  pop|\n",
      "+--------------------+-----+\n",
      "only showing top 20 rows\n",
      "\n"
     ]
    }
   ],
   "source": [
    "df = mendeley_dataset.select(\"lyrics\", \"genre\")\n",
    "df.show()"
   ]
  },
  {
   "cell_type": "code",
   "execution_count": null,
   "id": "93eab612",
   "metadata": {},
   "outputs": [],
   "source": [
    "class Cleanser(Transformer):\n",
    "    def __init__():\n",
    "        this.uid"
   ]
  },
  {
   "cell_type": "code",
   "execution_count": 18,
   "id": "c0c5043b",
   "metadata": {},
   "outputs": [],
   "source": [
    "spark.stop()"
   ]
  },
  {
   "cell_type": "code",
   "execution_count": null,
   "id": "f055f0f8",
   "metadata": {},
   "outputs": [],
   "source": []
  }
 ],
 "metadata": {
  "kernelspec": {
   "display_name": "Python 3 (ipykernel)",
   "language": "python",
   "name": "python3"
  },
  "language_info": {
   "codemirror_mode": {
    "name": "ipython",
    "version": 3
   },
   "file_extension": ".py",
   "mimetype": "text/x-python",
   "name": "python",
   "nbconvert_exporter": "python",
   "pygments_lexer": "ipython3",
   "version": "3.9.13"
  }
 },
 "nbformat": 4,
 "nbformat_minor": 5
}
