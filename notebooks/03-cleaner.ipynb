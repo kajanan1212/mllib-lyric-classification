{
 "cells": [
  {
   "cell_type": "code",
   "execution_count": 41,
   "id": "a817a5c6",
   "metadata": {},
   "outputs": [],
   "source": [
    "import pandas as pd"
   ]
  },
  {
   "cell_type": "code",
   "execution_count": null,
   "id": "d8765ee0",
   "metadata": {},
   "outputs": [],
   "source": [
    "path = \"Merged_dataset.csv\""
   ]
  },
  {
   "cell_type": "code",
   "execution_count": 43,
   "id": "498520b4",
   "metadata": {},
   "outputs": [],
   "source": [
    "df = pd.read_csv(path)"
   ]
  },
  {
   "cell_type": "code",
   "execution_count": 44,
   "id": "ca2709a6",
   "metadata": {},
   "outputs": [
    {
     "data": {
      "text/html": [
       "<div>\n",
       "<style scoped>\n",
       "    .dataframe tbody tr th:only-of-type {\n",
       "        vertical-align: middle;\n",
       "    }\n",
       "\n",
       "    .dataframe tbody tr th {\n",
       "        vertical-align: top;\n",
       "    }\n",
       "\n",
       "    .dataframe thead th {\n",
       "        text-align: right;\n",
       "    }\n",
       "</style>\n",
       "<table border=\"1\" class=\"dataframe\">\n",
       "  <thead>\n",
       "    <tr style=\"text-align: right;\">\n",
       "      <th></th>\n",
       "      <th>artist_name</th>\n",
       "      <th>track_name</th>\n",
       "      <th>release_date</th>\n",
       "      <th>genre</th>\n",
       "      <th>lyrics</th>\n",
       "    </tr>\n",
       "  </thead>\n",
       "  <tbody>\n",
       "    <tr>\n",
       "      <th>0</th>\n",
       "      <td>mukesh</td>\n",
       "      <td>mohabbat bhi jhoothi</td>\n",
       "      <td>1950</td>\n",
       "      <td>pop</td>\n",
       "      <td>hold time feel break feel untrue convince spea...</td>\n",
       "    </tr>\n",
       "    <tr>\n",
       "      <th>1</th>\n",
       "      <td>frankie laine</td>\n",
       "      <td>i believe</td>\n",
       "      <td>1950</td>\n",
       "      <td>pop</td>\n",
       "      <td>believe drop rain fall grow believe darkest ni...</td>\n",
       "    </tr>\n",
       "    <tr>\n",
       "      <th>2</th>\n",
       "      <td>johnnie ray</td>\n",
       "      <td>cry</td>\n",
       "      <td>1950</td>\n",
       "      <td>pop</td>\n",
       "      <td>sweetheart send letter goodbye secret feel bet...</td>\n",
       "    </tr>\n",
       "    <tr>\n",
       "      <th>3</th>\n",
       "      <td>pérez prado</td>\n",
       "      <td>patricia</td>\n",
       "      <td>1950</td>\n",
       "      <td>pop</td>\n",
       "      <td>kiss lips want stroll charm mambo chacha merin...</td>\n",
       "    </tr>\n",
       "    <tr>\n",
       "      <th>4</th>\n",
       "      <td>giorgos papadopoulos</td>\n",
       "      <td>apopse eida oneiro</td>\n",
       "      <td>1950</td>\n",
       "      <td>pop</td>\n",
       "      <td>till darling till matter know till dream live ...</td>\n",
       "    </tr>\n",
       "    <tr>\n",
       "      <th>...</th>\n",
       "      <td>...</td>\n",
       "      <td>...</td>\n",
       "      <td>...</td>\n",
       "      <td>...</td>\n",
       "      <td>...</td>\n",
       "    </tr>\n",
       "    <tr>\n",
       "      <th>28485</th>\n",
       "      <td>Adele</td>\n",
       "      <td>I Drink Wine</td>\n",
       "      <td>2021</td>\n",
       "      <td>soul</td>\n",
       "      <td>How can one become so bounded by choices that ...</td>\n",
       "    </tr>\n",
       "    <tr>\n",
       "      <th>28486</th>\n",
       "      <td>Frank Ocean</td>\n",
       "      <td>Moon River</td>\n",
       "      <td>2018</td>\n",
       "      <td>soul</td>\n",
       "      <td>One, two\\n\\n[Chorus]\\nMoon river, wider than a...</td>\n",
       "    </tr>\n",
       "    <tr>\n",
       "      <th>28487</th>\n",
       "      <td>Snoh Aalegra</td>\n",
       "      <td>I Want You Around</td>\n",
       "      <td>2019</td>\n",
       "      <td>soul</td>\n",
       "      <td>It's not that I don't want you here (Yeah, yea...</td>\n",
       "    </tr>\n",
       "    <tr>\n",
       "      <th>28488</th>\n",
       "      <td>Nina Simone</td>\n",
       "      <td>Feeling Good</td>\n",
       "      <td>1965</td>\n",
       "      <td>soul</td>\n",
       "      <td>Birds flying high, you know how I feel\\nSun in...</td>\n",
       "    </tr>\n",
       "    <tr>\n",
       "      <th>28489</th>\n",
       "      <td>Michael Jackson</td>\n",
       "      <td>Heaven Can Wait</td>\n",
       "      <td>2001</td>\n",
       "      <td>soul</td>\n",
       "      <td>Tell the angels, \"No, I don't wanna leave my b...</td>\n",
       "    </tr>\n",
       "  </tbody>\n",
       "</table>\n",
       "<p>28490 rows × 5 columns</p>\n",
       "</div>"
      ],
      "text/plain": [
       "                artist_name            track_name  release_date genre  \\\n",
       "0                    mukesh  mohabbat bhi jhoothi          1950   pop   \n",
       "1             frankie laine             i believe          1950   pop   \n",
       "2               johnnie ray                   cry          1950   pop   \n",
       "3               pérez prado              patricia          1950   pop   \n",
       "4      giorgos papadopoulos    apopse eida oneiro          1950   pop   \n",
       "...                     ...                   ...           ...   ...   \n",
       "28485                 Adele          I Drink Wine          2021  soul   \n",
       "28486           Frank Ocean            Moon River          2018  soul   \n",
       "28487          Snoh Aalegra     I Want You Around          2019  soul   \n",
       "28488           Nina Simone          Feeling Good          1965  soul   \n",
       "28489       Michael Jackson       Heaven Can Wait          2001  soul   \n",
       "\n",
       "                                                  lyrics  \n",
       "0      hold time feel break feel untrue convince spea...  \n",
       "1      believe drop rain fall grow believe darkest ni...  \n",
       "2      sweetheart send letter goodbye secret feel bet...  \n",
       "3      kiss lips want stroll charm mambo chacha merin...  \n",
       "4      till darling till matter know till dream live ...  \n",
       "...                                                  ...  \n",
       "28485  How can one become so bounded by choices that ...  \n",
       "28486  One, two\\n\\n[Chorus]\\nMoon river, wider than a...  \n",
       "28487  It's not that I don't want you here (Yeah, yea...  \n",
       "28488  Birds flying high, you know how I feel\\nSun in...  \n",
       "28489  Tell the angels, \"No, I don't wanna leave my b...  \n",
       "\n",
       "[28490 rows x 5 columns]"
      ]
     },
     "execution_count": 44,
     "metadata": {},
     "output_type": "execute_result"
    }
   ],
   "source": [
    "df"
   ]
  },
  {
   "cell_type": "code",
   "execution_count": 45,
   "id": "60bfb212",
   "metadata": {},
   "outputs": [],
   "source": [
    "for col in [\"artist_name\", \"track_name\", \"lyrics\"]:\n",
    "    df[col] = df[col].str.replace('\\n', ' ')\n",
    "    df[col] = df[col].str.replace('\\t', ' ')\n",
    "    df[col] = df[col].str.replace(',', ' ')\n",
    "    df[col] = df[col].str.replace(r'\\s+', ' ', regex=True)"
   ]
  },
  {
   "cell_type": "code",
   "execution_count": 46,
   "id": "0c44ed3d",
   "metadata": {},
   "outputs": [
    {
     "name": "stdout",
     "output_type": "stream",
     "text": [
      "<class 'pandas.core.frame.DataFrame'>\n",
      "RangeIndex: 28490 entries, 0 to 28489\n",
      "Data columns (total 5 columns):\n",
      " #   Column        Non-Null Count  Dtype \n",
      "---  ------        --------------  ----- \n",
      " 0   artist_name   28490 non-null  object\n",
      " 1   track_name    28490 non-null  object\n",
      " 2   release_date  28490 non-null  int64 \n",
      " 3   genre         28490 non-null  object\n",
      " 4   lyrics        28490 non-null  object\n",
      "dtypes: int64(1), object(4)\n",
      "memory usage: 1.1+ MB\n"
     ]
    }
   ],
   "source": [
    "df.info()"
   ]
  },
  {
   "cell_type": "code",
   "execution_count": 47,
   "id": "a0a432a6",
   "metadata": {},
   "outputs": [],
   "source": [
    "df.to_csv(\"Merged_dataset.csv\", index=False)"
   ]
  }
 ],
 "metadata": {
  "kernelspec": {
   "display_name": "Python 3 (ipykernel)",
   "language": "python",
   "name": "python3"
  },
  "language_info": {
   "codemirror_mode": {
    "name": "ipython",
    "version": 3
   },
   "file_extension": ".py",
   "mimetype": "text/x-python",
   "name": "python",
   "nbconvert_exporter": "python",
   "pygments_lexer": "ipython3",
   "version": "3.9.13"
  }
 },
 "nbformat": 4,
 "nbformat_minor": 5
}
